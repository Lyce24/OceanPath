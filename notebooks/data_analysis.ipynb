{
 "cells": [
  {
   "cell_type": "code",
   "execution_count": 5,
   "id": "827e749b",
   "metadata": {},
   "outputs": [
    {
     "name": "stdout",
     "output_type": "stream",
     "text": [
      "WHO 1973 value counts:\n",
      "WHO 1973\n",
      "2    76\n",
      "1    34\n",
      "3    33\n",
      "Name: count, dtype: int64\n",
      "\n",
      "Binary WHO 2022 value counts:\n",
      "Binary WHO 2022\n",
      "0    83\n",
      "1    60\n",
      "Name: count, dtype: int64\n",
      "\n"
     ]
    }
   ],
   "source": [
    "\n",
    "import pandas as pd\n",
    "import os\n",
    "\n",
    "df = pd.read_excel('../data/AI Bladder Cases_V25.xlsx', sheet_name='Test Samples')\n",
    "# if df[\"WHO 2022\"] == high then df[\"Binary WHO 2022\"] = 1\n",
    "df['Binary WHO 2022'] = df['WHO 2022'].apply(lambda x: 0 if x == 'low' else 1)\n",
    "\n",
    "for col in [\"WHO 1973\", \"Binary WHO 2022\"]:\n",
    "    print(f\"{col} value counts:\")\n",
    "    print(df[col].value_counts())\n",
    "    print()"
   ]
  },
  {
   "cell_type": "code",
   "execution_count": 6,
   "id": "5424d37e",
   "metadata": {},
   "outputs": [
    {
     "name": "stdout",
     "output_type": "stream",
     "text": [
      "All G1 cases are low grade: True\n"
     ]
    }
   ],
   "source": [
    "# test if all G1 cases are low grade\n",
    "g1_cases = df[df['WHO 1973'] == 1]\n",
    "all_low_grade = (g1_cases['WHO 2022'] == 'low').all()\n",
    "print(f\"All G1 cases are low grade: {all_low_grade}\")"
   ]
  },
  {
   "cell_type": "code",
   "execution_count": 7,
   "id": "4d0a1078",
   "metadata": {},
   "outputs": [
    {
     "name": "stdout",
     "output_type": "stream",
     "text": [
      "All G3 cases are high grade: True\n"
     ]
    }
   ],
   "source": [
    "# test if all G3 cases are high grade\n",
    "g3_cases = df[df['WHO 1973'] == 3]\n",
    "all_high_grade = (g3_cases['WHO 2022'] == 'high').all()\n",
    "print(f\"All G3 cases are high grade: {all_high_grade}\")"
   ]
  },
  {
   "cell_type": "code",
   "execution_count": 8,
   "id": "0db1f21a",
   "metadata": {},
   "outputs": [
    {
     "name": "stdout",
     "output_type": "stream",
     "text": [
      "G2 cases - Low grade: 49, High grade: 27\n"
     ]
    }
   ],
   "source": [
    "# visualize the distribution of low/high in G2 cases\n",
    "g2_cases = df[df['WHO 1973'] == 2]\n",
    "low_count = (g2_cases['WHO 2022'] == 'low').sum()\n",
    "high_count = (g2_cases['WHO 2022'] == 'high').sum()\n",
    "print(f\"G2 cases - Low grade: {low_count}, High grade: {high_count}\")"
   ]
  }
 ],
 "metadata": {
  "kernelspec": {
   "display_name": "trident",
   "language": "python",
   "name": "python3"
  },
  "language_info": {
   "codemirror_mode": {
    "name": "ipython",
    "version": 3
   },
   "file_extension": ".py",
   "mimetype": "text/x-python",
   "name": "python",
   "nbconvert_exporter": "python",
   "pygments_lexer": "ipython3",
   "version": "3.10.18"
  }
 },
 "nbformat": 4,
 "nbformat_minor": 5
}
